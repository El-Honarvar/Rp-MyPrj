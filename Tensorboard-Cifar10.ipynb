{
  "nbformat": 4,
  "nbformat_minor": 0,
  "metadata": {
    "colab": {
      "name": "Untitled7.ipynb",
      "provenance": [],
      "collapsed_sections": []
    },
    "kernelspec": {
      "name": "python3",
      "display_name": "Python 3"
    },
    "language_info": {
      "name": "python"
    }
  },
  "cells": [
    {
      "cell_type": "code",
      "metadata": {
        "id": "KRP0PayTiuDk"
      },
      "source": [
        "%load_ext tensorboard"
      ],
      "execution_count": null,
      "outputs": []
    },
    {
      "cell_type": "code",
      "metadata": {
        "id": "SimokN7gnncO"
      },
      "source": [
        "import tensorflow as tf\n",
        "import keras \n",
        "from keras.models import Sequential\n",
        "from keras.layers import Dense, Activation, Dropout, Flatten\n",
        "from keras.layers import Conv2D, MaxPooling2D\n",
        "from tensorflow.keras.callbacks import TensorBoard\n",
        "import datetime\n",
        "import os\n",
        "from keras.datasets import cifar10\n",
        "import numpy as np\n",
        "import matplotlib.pyplot as plt"
      ],
      "execution_count": null,
      "outputs": []
    },
    {
      "cell_type": "code",
      "metadata": {
        "id": "T9DPniYmrlX_",
        "colab": {
          "base_uri": "https://localhost:8080/"
        },
        "outputId": "e702392a-08bc-4dde-882c-c6043df55bbe"
      },
      "source": [
        "(x_train , label_x_train) , (x_test , label_x_test)=cifar10.load_data()\n",
        "x_train=x_train.astype('float32')\n",
        "x_test=x_test.astype('float32')\n",
        "x_train/=255\n",
        "x_test/=255"
      ],
      "execution_count": null,
      "outputs": [
        {
          "output_type": "stream",
          "text": [
            "Downloading data from https://www.cs.toronto.edu/~kriz/cifar-10-python.tar.gz\n",
            "170500096/170498071 [==============================] - 2s 0us/step\n",
            "170508288/170498071 [==============================] - 2s 0us/step\n"
          ],
          "name": "stdout"
        }
      ]
    },
    {
      "cell_type": "code",
      "metadata": {
        "id": "QrKNVhngpHZn"
      },
      "source": [
        "model=Sequential()\n",
        "model.add(Conv2D(32,(3,3),activation='relu',input_shape=(32, 32, 3)))\n",
        "model.add(MaxPooling2D((2,2)))\n",
        "model.add(Conv2D(32,(3,3),activation='relu'))\n",
        "model.add(Conv2D(32,(3,3),activation='relu'))\n",
        "model.add(MaxPooling2D((2,2)))\n",
        "model.add(Conv2D(32,(3,3),activation='relu'))\n",
        "model.add(MaxPooling2D((2,2)))\n",
        "model.add(Flatten())\n",
        "# change the matrix(shapes) to vector\n",
        "model.add(Dropout(0.5))\n",
        "model.add(Dense(10,activation='softmax'))"
      ],
      "execution_count": null,
      "outputs": []
    },
    {
      "cell_type": "code",
      "metadata": {
        "id": "M6PsEzJQpdxD"
      },
      "source": [
        "opt_rms=keras.optimizers.RMSprop(learning_rate=0.001,decay=1e-6)\n",
        "model.compile(optimizer=opt_rms,loss='sparse_categorical_crossentropy',metrics=['accuracy'])"
      ],
      "execution_count": null,
      "outputs": []
    },
    {
      "cell_type": "code",
      "metadata": {
        "colab": {
          "base_uri": "https://localhost:8080/"
        },
        "id": "PJxt8M4tpkHq",
        "outputId": "7e5d2fc5-6eaa-4e41-db61-5b050efc6f73"
      },
      "source": [
        "logDir=\"logs/mlp32/\"+ datetime.datetime.now().strftime(\"%Y%m%d-%H%M%S\")\n",
        "print(\"logDir :\",logDir)\n",
        "tensorboard_callback=TensorBoard(logDir)\n",
        "model.fit(x_train, label_x_train,epochs=10,batch_size=64,validation_data=(x_test,label_x_test),callbacks=[tensorboard_callback])"
      ],
      "execution_count": null,
      "outputs": [
        {
          "output_type": "stream",
          "text": [
            "logDir : logs/mlp32/20210612-110631\n",
            "Epoch 1/10\n",
            "782/782 [==============================] - 64s 66ms/step - loss: 2.1334 - accuracy: 0.1867 - val_loss: 1.7290 - val_accuracy: 0.3830\n",
            "Epoch 2/10\n",
            "782/782 [==============================] - 50s 63ms/step - loss: 1.8114 - accuracy: 0.3271 - val_loss: 1.5969 - val_accuracy: 0.4245\n",
            "Epoch 3/10\n",
            "782/782 [==============================] - 50s 63ms/step - loss: 1.6836 - accuracy: 0.3831 - val_loss: 1.5102 - val_accuracy: 0.4630\n",
            "Epoch 4/10\n",
            "782/782 [==============================] - 49s 63ms/step - loss: 1.5974 - accuracy: 0.4160 - val_loss: 1.5138 - val_accuracy: 0.4573\n",
            "Epoch 5/10\n",
            "782/782 [==============================] - 49s 63ms/step - loss: 1.5340 - accuracy: 0.4463 - val_loss: 1.4445 - val_accuracy: 0.4904\n",
            "Epoch 6/10\n",
            "782/782 [==============================] - 51s 65ms/step - loss: 1.4994 - accuracy: 0.4604 - val_loss: 1.4354 - val_accuracy: 0.4704\n",
            "Epoch 7/10\n",
            "782/782 [==============================] - 51s 65ms/step - loss: 1.4560 - accuracy: 0.4746 - val_loss: 1.4735 - val_accuracy: 0.4519\n",
            "Epoch 8/10\n",
            "782/782 [==============================] - 50s 65ms/step - loss: 1.4134 - accuracy: 0.4917 - val_loss: 1.4186 - val_accuracy: 0.4955\n",
            "Epoch 9/10\n",
            "782/782 [==============================] - 51s 65ms/step - loss: 1.3951 - accuracy: 0.5028 - val_loss: 1.3035 - val_accuracy: 0.5365\n",
            "Epoch 10/10\n",
            "782/782 [==============================] - 50s 64ms/step - loss: 1.3556 - accuracy: 0.5143 - val_loss: 1.2482 - val_accuracy: 0.5649\n"
          ],
          "name": "stdout"
        },
        {
          "output_type": "execute_result",
          "data": {
            "text/plain": [
              "<keras.callbacks.History at 0x7fc977d37890>"
            ]
          },
          "metadata": {
            "tags": []
          },
          "execution_count": 6
        }
      ]
    },
    {
      "cell_type": "code",
      "metadata": {
        "id": "MKm0VgRB2-o3"
      },
      "source": [
        "%tensorboard --logdir logs"
      ],
      "execution_count": null,
      "outputs": []
    }
  ]
}