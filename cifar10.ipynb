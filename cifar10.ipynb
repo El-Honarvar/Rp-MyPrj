{
 "cells": [
  {
   "cell_type": "code",
   "execution_count": null,
   "metadata": {
    "id": "hJdKcsoJQItq"
   },
   "outputs": [],
   "source": [
    "import keras \n",
    "from keras.models import Sequential\n",
    "from keras.layers import Dense, Activation, Dropout, Flatten\n",
    "from keras.layers import Conv2D, MaxPooling2D\n",
    "from keras.datasets import cifar10\n",
    "import numpy as np\n",
    "import matplotlib.pyplot as plt\n",
    "%matplotlib inline\n",
    "np.random.seed(123)"
   ]
  },
  {
   "cell_type": "code",
   "execution_count": null,
   "metadata": {
    "colab": {
     "base_uri": "https://localhost:8080/",
     "height": 51
    },
    "executionInfo": {
     "elapsed": 9210,
     "status": "ok",
     "timestamp": 1603122099018,
     "user": {
      "displayName": "NYR HRN",
      "photoUrl": "",
      "userId": "00219144422492457348"
     },
     "user_tz": -210
    },
    "id": "0GxqeyNHSDi_",
    "outputId": "a6ba5932-433b-446c-c8bd-14c93e6d4d4f"
   },
   "outputs": [
    {
     "name": "stdout",
     "output_type": "stream",
     "text": [
      "Downloading data from https://www.cs.toronto.edu/~kriz/cifar-10-python.tar.gz\n",
      "170500096/170498071 [==============================] - 6s 0us/step\n"
     ]
    }
   ],
   "source": [
    "(x_train , label_x_train) , (x_test , label_x_test)=cifar10.load_data()"
   ]
  },
  {
   "cell_type": "code",
   "execution_count": null,
   "metadata": {
    "colab": {
     "base_uri": "https://localhost:8080/",
     "height": 283
    },
    "executionInfo": {
     "elapsed": 1119,
     "status": "ok",
     "timestamp": 1603122120411,
     "user": {
      "displayName": "NYR HRN",
      "photoUrl": "",
      "userId": "00219144422492457348"
     },
     "user_tz": -210
    },
    "id": "74xp8b91SwPh",
    "outputId": "58622e8a-cf42-4b73-987a-92a694d92fd9"
   },
   "outputs": [
    {
     "data": {
      "text/plain": [
       "<matplotlib.image.AxesImage at 0x7ff57d10db38>"
      ]
     },
     "execution_count": 5,
     "metadata": {
      "tags": []
     },
     "output_type": "execute_result"
    },
    {
     "data": {
      "image/png": "[encoded data removed]",
      "text/plain": [
       "<Figure size 432x288 with 1 Axes>"
      ]
     },
     "metadata": {
      "needs_background": "light",
      "tags": []
     },
     "output_type": "display_data"
    }
   ],
   "source": [
    "plt.imshow(x_train[4589])"
   ]
  },
  {
   "cell_type": "code",
   "execution_count": null,
   "metadata": {
    "colab": {
     "base_uri": "https://localhost:8080/",
     "height": 283
    },
    "executionInfo": {
     "elapsed": 3585,
     "status": "ok",
     "timestamp": 1602246733196,
     "user": {
      "displayName": "NYR HRN",
      "photoUrl": "",
      "userId": "00219144422492457348"
     },
     "user_tz": -210
    },
    "id": "SZ5ILcbiS_Jc",
    "outputId": "8dcc9196-c4eb-45d8-ce76-22960a2dc3fa"
   },
   "outputs": [
    {
     "data": {
      "text/plain": [
       "(32, 32, 3)"
      ]
     },
     "execution_count": 8,
     "metadata": {
      "tags": []
     },
     "output_type": "execute_result"
    },
    {
     "data": {
      "image/png": "[encoded data removed]",
      "text/plain": [
       "<Figure size 432x288 with 1 Axes>"
      ]
     },
     "metadata": {
      "needs_background": "light",
      "tags": []
     },
     "output_type": "display_data"
    }
   ],
   "source": [
    "plt.imshow(x_train[150])\n",
    "x_train[150].shape"
   ]
  },
  {
   "cell_type": "code",
   "execution_count": null,
   "metadata": {
    "id": "MFMe1vuLTHA_"
   },
   "outputs": [],
   "source": [
    "x_train=x_train.astype('float32')\n",
    "x_test=x_test.astype('float32')\n",
    "x_train/=255\n",
    "x_test/=255"
   ]
  },
  {
   "cell_type": "code",
   "execution_count": null,
   "metadata": {
    "id": "4GGFvNxfU0HH"
   },
   "outputs": [],
   "source": [
    "label_x_train=keras.utils.to_categorical(label_x_train,num_classes=10)\n",
    "label_x_test=keras.utils.to_categorical(label_x_test,num_classes=10)"
   ]
  },
  {
   "cell_type": "code",
   "execution_count": null,
   "metadata": {
    "id": "Q9TOBVHvVftU"
   },
   "outputs": [],
   "source": [
    "model=Sequential()\n",
    "model.add(Conv2D(32,(3,3),activation='relu',input_shape=(32, 32, 3)))\n",
    "model.add(MaxPooling2D((2,2)))\n",
    "model.add(Conv2D(32,(3,3),activation='relu'))\n",
    "model.add(MaxPooling2D((2,2)))\n",
    "model.add(Conv2D(32,(3,3),activation='relu'))\n",
    "model.add(MaxPooling2D((2,2)))\n",
    "model.add(Flatten())\n",
    "\n",
    "model.add(Dropout(0.5))\n",
    "model.add(Dense(10,activation='softmax'))"
   ]
  },
  {
   "cell_type": "code",
   "execution_count": null,
   "metadata": {
    "id": "WC9W0UoIW25E"
   },
   "outputs": [],
   "source": [
    "opt_rms=keras.optimizers.RMSprop(lr=0.001,decay=1e-6)\n",
    "model.compile(loss='categorical_crossentropy',optimizer=opt_rms,metrics=['accuracy'])"
   ]
  },
  {
   "cell_type": "markdown",
   "metadata": {
    "id": "QwNbEm7F5KuY"
   },
   "source": []
  },
  {
   "cell_type": "code",
   "execution_count": null,
   "metadata": {},
   "outputs": [],
   "source": []
  },
  {
   "cell_type": "code",
   "execution_count": null,
   "metadata": {
    "colab": {
     "base_uri": "https://localhost:8080/",
     "height": 1000
    },
    "executionInfo": {
     "elapsed": 4108057,
     "status": "ok",
     "timestamp": 1602360752430,
     "user": {
      "displayName": "NYR HRN",
      "photoUrl": "",
      "userId": "00219144422492457348"
     },
     "user_tz": -210
    },
    "id": "I9EnvMrNZl-_",
    "outputId": "3b165089-5a34-4542-b75b-33f049488c6e"
   },
   "outputs": [
    {
     "name": "stdout",
     "output_type": "stream",
     "text": [
      "Epoch 1/80\n",
      "782/782 [==============================] - 51s 65ms/step - loss: 1.9105 - accuracy: 0.2878 - val_loss: 1.6187 - val_accuracy: 0.4132\n",
      "Epoch 2/80\n",
      "782/782 [==============================] - 50s 64ms/step - loss: 1.6215 - accuracy: 0.4052 - val_loss: 1.5276 - val_accuracy: 0.4726\n",
      "Epoch 3/80\n",
      "782/782 [==============================] - 51s 65ms/step - loss: 1.4963 - accuracy: 0.4583 - val_loss: 1.4083 - val_accuracy: 0.5027\n",
      "Epoch 4/80\n",
      "782/782 [==============================] - 51s 66ms/step - loss: 1.4229 - accuracy: 0.4869 - val_loss: 1.3123 - val_accuracy: 0.5456\n",
      "Epoch 5/80\n",
      "782/782 [==============================] - 50s 64ms/step - loss: 1.3711 - accuracy: 0.5060 - val_loss: 1.3044 - val_accuracy: 0.5292\n",
      "Epoch 6/80\n",
      "782/782 [==============================] - 50s 64ms/step - loss: 1.3219 - accuracy: 0.5275 - val_loss: 1.3011 - val_accuracy: 0.5471\n",
      "Epoch 7/80\n",
      "782/782 [==============================] - 50s 64ms/step - loss: 1.2910 - accuracy: 0.5381 - val_loss: 1.2474 - val_accuracy: 0.5709\n",
      "Epoch 8/80\n",
      "782/782 [==============================] - 54s 69ms/step - loss: 1.2598 - accuracy: 0.5513 - val_loss: 1.2028 - val_accuracy: 0.5672\n",
      "Epoch 9/80\n",
      "782/782 [==============================] - 51s 65ms/step - loss: 1.2356 - accuracy: 0.5629 - val_loss: 1.1734 - val_accuracy: 0.5912\n",
      "Epoch 10/80\n",
      "782/782 [==============================] - 53s 67ms/step - loss: 1.2097 - accuracy: 0.5676 - val_loss: 1.1281 - val_accuracy: 0.5973\n",
      "Epoch 11/80\n",
      "782/782 [==============================] - 52s 67ms/step - loss: 1.1900 - accuracy: 0.5781 - val_loss: 1.1663 - val_accuracy: 0.5852\n",
      "Epoch 12/80\n",
      "782/782 [==============================] - 51s 65ms/step - loss: 1.1716 - accuracy: 0.5831 - val_loss: 1.0912 - val_accuracy: 0.6228\n",
      "Epoch 13/80\n",
      "782/782 [==============================] - 50s 64ms/step - loss: 1.1497 - accuracy: 0.5922 - val_loss: 1.1554 - val_accuracy: 0.5998\n",
      "Epoch 14/80\n",
      "782/782 [==============================] - 50s 64ms/step - loss: 1.1368 - accuracy: 0.5972 - val_loss: 1.0186 - val_accuracy: 0.6436\n",
      "Epoch 15/80\n",
      "782/782 [==============================] - 52s 67ms/step - loss: 1.1172 - accuracy: 0.6038 - val_loss: 1.0479 - val_accuracy: 0.6298\n",
      "Epoch 16/80\n",
      "782/782 [==============================] - 51s 65ms/step - loss: 1.1123 - accuracy: 0.6056 - val_loss: 1.0246 - val_accuracy: 0.6429\n",
      "Epoch 17/80\n",
      "782/782 [==============================] - 55s 70ms/step - loss: 1.0971 - accuracy: 0.6126 - val_loss: 1.0061 - val_accuracy: 0.6446\n",
      "Epoch 18/80\n",
      "782/782 [==============================] - 51s 65ms/step - loss: 1.0895 - accuracy: 0.6174 - val_loss: 1.0434 - val_accuracy: 0.6361\n",
      "Epoch 19/80\n",
      "782/782 [==============================] - 50s 64ms/step - loss: 1.0796 - accuracy: 0.6185 - val_loss: 1.0672 - val_accuracy: 0.6194\n",
      "Epoch 20/80\n",
      "782/782 [==============================] - 51s 65ms/step - loss: 1.0684 - accuracy: 0.6210 - val_loss: 1.0409 - val_accuracy: 0.6334\n",
      "Epoch 21/80\n",
      "782/782 [==============================] - 52s 67ms/step - loss: 1.0654 - accuracy: 0.6263 - val_loss: 0.9977 - val_accuracy: 0.6460\n",
      "Epoch 22/80\n",
      "782/782 [==============================] - 51s 65ms/step - loss: 1.0512 - accuracy: 0.6305 - val_loss: 1.0392 - val_accuracy: 0.6419\n",
      "Epoch 23/80\n",
      "782/782 [==============================] - 52s 67ms/step - loss: 1.0467 - accuracy: 0.6320 - val_loss: 1.0298 - val_accuracy: 0.6426\n",
      "Epoch 24/80\n",
      "782/782 [==============================] - 50s 64ms/step - loss: 1.0375 - accuracy: 0.6351 - val_loss: 1.0514 - val_accuracy: 0.6389\n",
      "Epoch 25/80\n",
      "782/782 [==============================] - 51s 65ms/step - loss: 1.0268 - accuracy: 0.6389 - val_loss: 1.1454 - val_accuracy: 0.6054\n",
      "Epoch 26/80\n",
      "782/782 [==============================] - 51s 65ms/step - loss: 1.0269 - accuracy: 0.6387 - val_loss: 1.0367 - val_accuracy: 0.6370\n",
      "Epoch 27/80\n",
      "782/782 [==============================] - 51s 66ms/step - loss: 1.0214 - accuracy: 0.6412 - val_loss: 1.0272 - val_accuracy: 0.6374\n",
      "Epoch 28/80\n",
      "782/782 [==============================] - 50s 64ms/step - loss: 1.0145 - accuracy: 0.6449 - val_loss: 1.0751 - val_accuracy: 0.6426\n",
      "Epoch 29/80\n",
      "782/782 [==============================] - 51s 65ms/step - loss: 1.0122 - accuracy: 0.6460 - val_loss: 0.9702 - val_accuracy: 0.6604\n",
      "Epoch 30/80\n",
      "782/782 [==============================] - 50s 64ms/step - loss: 1.0070 - accuracy: 0.6458 - val_loss: 0.9254 - val_accuracy: 0.6775\n",
      "Epoch 31/80\n",
      "782/782 [==============================] - 50s 64ms/step - loss: 1.0018 - accuracy: 0.6463 - val_loss: 0.9642 - val_accuracy: 0.6749\n",
      "Epoch 32/80\n",
      "782/782 [==============================] - 50s 64ms/step - loss: 1.0015 - accuracy: 0.6486 - val_loss: 0.9750 - val_accuracy: 0.6644\n",
      "Epoch 33/80\n",
      "782/782 [==============================] - 51s 65ms/step - loss: 0.9958 - accuracy: 0.6517 - val_loss: 1.1732 - val_accuracy: 0.6097\n",
      "Epoch 34/80\n",
      "782/782 [==============================] - 51s 65ms/step - loss: 0.9921 - accuracy: 0.6519 - val_loss: 0.9447 - val_accuracy: 0.6735\n",
      "Epoch 35/80\n",
      "782/782 [==============================] - 50s 65ms/step - loss: 0.9831 - accuracy: 0.6568 - val_loss: 1.0215 - val_accuracy: 0.6416\n",
      "Epoch 36/80\n",
      "782/782 [==============================] - 53s 67ms/step - loss: 0.9814 - accuracy: 0.6545 - val_loss: 0.9437 - val_accuracy: 0.6736\n",
      "Epoch 37/80\n",
      "782/782 [==============================] - 51s 65ms/step - loss: 0.9848 - accuracy: 0.6545 - val_loss: 0.9688 - val_accuracy: 0.6645\n",
      "Epoch 38/80\n",
      "782/782 [==============================] - 51s 65ms/step - loss: 0.9774 - accuracy: 0.6572 - val_loss: 1.1793 - val_accuracy: 0.6278\n",
      "Epoch 39/80\n",
      "782/782 [==============================] - 51s 66ms/step - loss: 0.9757 - accuracy: 0.6555 - val_loss: 0.9569 - val_accuracy: 0.6701\n",
      "Epoch 40/80\n",
      "782/782 [==============================] - 50s 65ms/step - loss: 0.9733 - accuracy: 0.6573 - val_loss: 0.9624 - val_accuracy: 0.6608\n",
      "Epoch 41/80\n",
      "782/782 [==============================] - 51s 65ms/step - loss: 0.9731 - accuracy: 0.6574 - val_loss: 1.0368 - val_accuracy: 0.6405\n",
      "Epoch 42/80\n",
      "782/782 [==============================] - 54s 69ms/step - loss: 0.9688 - accuracy: 0.6587 - val_loss: 1.0159 - val_accuracy: 0.6506\n",
      "Epoch 43/80\n",
      "782/782 [==============================] - 51s 65ms/step - loss: 0.9718 - accuracy: 0.6588 - val_loss: 0.9452 - val_accuracy: 0.6797\n",
      "Epoch 44/80\n",
      "782/782 [==============================] - 51s 65ms/step - loss: 0.9651 - accuracy: 0.6610 - val_loss: 1.0175 - val_accuracy: 0.6505\n",
      "Epoch 45/80\n",
      "782/782 [==============================] - 52s 67ms/step - loss: 0.9659 - accuracy: 0.6622 - val_loss: 0.9408 - val_accuracy: 0.6769\n",
      "Epoch 46/80\n",
      "782/782 [==============================] - 55s 71ms/step - loss: 0.9625 - accuracy: 0.6600 - val_loss: 0.9639 - val_accuracy: 0.6791\n",
      "Epoch 47/80\n",
      "782/782 [==============================] - 51s 65ms/step - loss: 0.9633 - accuracy: 0.6618 - val_loss: 1.0893 - val_accuracy: 0.6256\n",
      "Epoch 48/80\n",
      "782/782 [==============================] - 53s 68ms/step - loss: 0.9580 - accuracy: 0.6641 - val_loss: 1.0071 - val_accuracy: 0.6542\n",
      "Epoch 49/80\n",
      "782/782 [==============================] - 51s 65ms/step - loss: 0.9614 - accuracy: 0.6643 - val_loss: 0.9607 - val_accuracy: 0.6605\n",
      "Epoch 50/80\n",
      "782/782 [==============================] - 51s 65ms/step - loss: 0.9556 - accuracy: 0.6656 - val_loss: 0.9356 - val_accuracy: 0.6856\n",
      "Epoch 51/80\n",
      "782/782 [==============================] - 52s 66ms/step - loss: 0.9543 - accuracy: 0.6665 - val_loss: 0.9513 - val_accuracy: 0.6792\n",
      "Epoch 52/80\n",
      "782/782 [==============================] - 51s 65ms/step - loss: 0.9572 - accuracy: 0.6657 - val_loss: 0.9829 - val_accuracy: 0.6797\n",
      "Epoch 53/80\n",
      "782/782 [==============================] - 51s 65ms/step - loss: 0.9570 - accuracy: 0.6620 - val_loss: 0.9265 - val_accuracy: 0.6821\n",
      "Epoch 54/80\n",
      "782/782 [==============================] - 52s 66ms/step - loss: 0.9531 - accuracy: 0.6672 - val_loss: 1.0792 - val_accuracy: 0.6346\n",
      "Epoch 55/80\n",
      "782/782 [==============================] - 53s 68ms/step - loss: 0.9493 - accuracy: 0.6667 - val_loss: 1.0382 - val_accuracy: 0.6407\n",
      "Epoch 56/80\n",
      "782/782 [==============================] - 51s 65ms/step - loss: 0.9510 - accuracy: 0.6687 - val_loss: 1.0485 - val_accuracy: 0.6592\n",
      "Epoch 57/80\n",
      "782/782 [==============================] - 52s 67ms/step - loss: 0.9468 - accuracy: 0.6671 - val_loss: 0.9119 - val_accuracy: 0.6851\n",
      "Epoch 58/80\n",
      "782/782 [==============================] - 54s 68ms/step - loss: 0.9496 - accuracy: 0.6656 - val_loss: 1.0057 - val_accuracy: 0.6622\n",
      "Epoch 59/80\n",
      "782/782 [==============================] - 50s 64ms/step - loss: 0.9484 - accuracy: 0.6697 - val_loss: 0.9637 - val_accuracy: 0.6693\n",
      "Epoch 60/80\n",
      "782/782 [==============================] - 50s 64ms/step - loss: 0.9493 - accuracy: 0.6690 - val_loss: 0.9344 - val_accuracy: 0.6778\n",
      "Epoch 61/80\n",
      "782/782 [==============================] - 55s 70ms/step - loss: 0.9468 - accuracy: 0.6700 - val_loss: 1.0705 - val_accuracy: 0.6463\n",
      "Epoch 62/80\n",
      "782/782 [==============================] - 51s 65ms/step - loss: 0.9445 - accuracy: 0.6706 - val_loss: 1.2161 - val_accuracy: 0.6315\n",
      "Epoch 63/80\n",
      "782/782 [==============================] - 51s 66ms/step - loss: 0.9416 - accuracy: 0.6713 - val_loss: 0.9811 - val_accuracy: 0.6629\n",
      "Epoch 64/80\n",
      "782/782 [==============================] - 50s 64ms/step - loss: 0.9451 - accuracy: 0.6721 - val_loss: 0.9546 - val_accuracy: 0.6727\n",
      "Epoch 65/80\n",
      "782/782 [==============================] - 50s 64ms/step - loss: 0.9432 - accuracy: 0.6694 - val_loss: 1.0066 - val_accuracy: 0.6564\n",
      "Epoch 66/80\n",
      "782/782 [==============================] - 51s 65ms/step - loss: 0.9474 - accuracy: 0.6692 - val_loss: 0.9369 - val_accuracy: 0.6795\n",
      "Epoch 67/80\n",
      "782/782 [==============================] - 53s 68ms/step - loss: 0.9421 - accuracy: 0.6721 - val_loss: 1.0374 - val_accuracy: 0.6387\n",
      "Epoch 68/80\n",
      "782/782 [==============================] - 51s 65ms/step - loss: 0.9417 - accuracy: 0.6706 - val_loss: 1.0026 - val_accuracy: 0.6684\n",
      "Epoch 69/80\n",
      "782/782 [==============================] - 52s 66ms/step - loss: 0.9354 - accuracy: 0.6737 - val_loss: 0.9160 - val_accuracy: 0.6806\n",
      "Epoch 70/80\n",
      "782/782 [==============================] - 51s 65ms/step - loss: 0.9394 - accuracy: 0.6713 - val_loss: 0.9887 - val_accuracy: 0.6631\n",
      "Epoch 71/80\n",
      "782/782 [==============================] - 50s 64ms/step - loss: 0.9443 - accuracy: 0.6716 - val_loss: 1.1632 - val_accuracy: 0.5894\n",
      "Epoch 72/80\n",
      "782/782 [==============================] - 50s 64ms/step - loss: 0.9373 - accuracy: 0.6725 - val_loss: 1.1111 - val_accuracy: 0.6497\n",
      "Epoch 73/80\n",
      "782/782 [==============================] - 51s 65ms/step - loss: 0.9424 - accuracy: 0.6672 - val_loss: 1.0011 - val_accuracy: 0.6630\n",
      "Epoch 74/80\n",
      "782/782 [==============================] - 52s 67ms/step - loss: 0.9429 - accuracy: 0.6714 - val_loss: 1.0983 - val_accuracy: 0.6633\n",
      "Epoch 75/80\n",
      "782/782 [==============================] - 51s 65ms/step - loss: 0.9452 - accuracy: 0.6701 - val_loss: 0.9537 - val_accuracy: 0.6713\n",
      "Epoch 76/80\n",
      "782/782 [==============================] - 50s 63ms/step - loss: 0.9440 - accuracy: 0.6723 - val_loss: 1.0586 - val_accuracy: 0.6350\n",
      "Epoch 77/80\n",
      "782/782 [==============================] - 49s 63ms/step - loss: 0.9380 - accuracy: 0.6735 - val_loss: 0.9522 - val_accuracy: 0.6790\n",
      "Epoch 78/80\n",
      "782/782 [==============================] - 50s 64ms/step - loss: 0.9387 - accuracy: 0.6745 - val_loss: 1.0045 - val_accuracy: 0.6609\n",
      "Epoch 79/80\n",
      "782/782 [==============================] - 50s 64ms/step - loss: 0.9428 - accuracy: 0.6719 - val_loss: 1.1095 - val_accuracy: 0.6396\n",
      "Epoch 80/80\n",
      "782/782 [==============================] - 54s 68ms/step - loss: 0.9449 - accuracy: 0.6726 - val_loss: 1.0511 - val_accuracy: 0.6484\n"
     ]
    },
    {
     "data": {
      "text/plain": [
       "<tensorflow.python.keras.callbacks.History at 0x7fecd97986a0>"
      ]
     },
     "execution_count": 7,
     "metadata": {
      "tags": []
     },
     "output_type": "execute_result"
    }
   ],
   "source": [
    "model.fit(x_train, label_x_train,epochs=80,batch_size=64,validation_data=(x_test,label_x_test))"
   ]
  },
  {
   "cell_type": "code",
   "execution_count": null,
   "metadata": {
    "id": "dYk1H8bkayB7"
   },
   "outputs": [],
   "source": []
  }
 ],
 "metadata": {
  "colab": {
   "authorship_tag": "ABX9TyOswukQvS9L23CmZWEqoYYQ",
   "name": "Untitled1.ipynb",
   "provenance": []
  },
  "kernelspec": {
   "display_name": "Python 3",
   "language": "python",
   "name": "python3"
  },
  "language_info": {
   "codemirror_mode": {
    "name": "ipython",
    "version": 3
   },
   "file_extension": ".py",
   "mimetype": "text/x-python",
   "name": "python",
   "nbconvert_exporter": "python",
   "pygments_lexer": "ipython3",
   "version": "3.7.6"
  }
 },
 "nbformat": 4,
 "nbformat_minor": 1
}
