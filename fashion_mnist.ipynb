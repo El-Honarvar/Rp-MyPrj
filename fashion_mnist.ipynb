{
 "cells": [
  {
   "cell_type": "code",
   "execution_count": 1,
   "metadata": {
    "executionInfo": {
     "elapsed": 2703,
     "status": "ok",
     "timestamp": 1612765758121,
     "user": {
      "displayName": "NYR HRN",
      "photoUrl": "",
      "userId": "00219144422492457348"
     },
     "user_tz": -210
    },
    "id": "ovEchvIyjATN"
   },
   "outputs": [],
   "source": [
    "import tensorflow as tf\n",
    "import keras \n",
    "from keras.models import Sequential\n",
    "from keras.layers import Dense, Activation, Dropout, Flatten\n",
    "import numpy as np\n",
    "import matplotlib.pyplot as plt\n",
    "%matplotlib inline\n",
    "np.random.seed(123)"
   ]
  },
  {
   "cell_type": "code",
   "execution_count": 2,
   "metadata": {
    "colab": {
     "base_uri": "https://localhost:8080/"
    },
    "executionInfo": {
     "elapsed": 1877,
     "status": "ok",
     "timestamp": 1612765761357,
     "user": {
      "displayName": "NYR HRN",
      "photoUrl": "",
      "userId": "00219144422492457348"
     },
     "user_tz": -210
    },
    "id": "-PcPnzgXCl4Z",
    "outputId": "611cb8ea-469e-4851-c4f6-fa8ef40d5ffd"
   },
   "outputs": [
    {
     "name": "stdout",
     "output_type": "stream",
     "text": [
      "Downloading data from https://storage.googleapis.com/tensorflow/tf-keras-datasets/train-labels-idx1-ubyte.gz\n",
      "32768/29515 [=================================] - 0s 0us/step\n",
      "Downloading data from https://storage.googleapis.com/tensorflow/tf-keras-datasets/train-images-idx3-ubyte.gz\n",
      "26427392/26421880 [==============================] - 0s 0us/step\n",
      "Downloading data from https://storage.googleapis.com/tensorflow/tf-keras-datasets/t10k-labels-idx1-ubyte.gz\n",
      "8192/5148 [===============================================] - 0s 0us/step\n",
      "Downloading data from https://storage.googleapis.com/tensorflow/tf-keras-datasets/t10k-images-idx3-ubyte.gz\n",
      "4423680/4422102 [==============================] - 0s 0us/step\n"
     ]
    }
   ],
   "source": [
    "fashion_mnist=keras.datasets.fashion_mnist\n",
    "\n",
    "(train_images,train_labels),(test_images,test_labels)=fashion_mnist.load_data()"
   ]
  },
  {
   "cell_type": "code",
   "execution_count": null,
   "metadata": {
    "colab": {
     "base_uri": "https://localhost:8080/",
     "height": 282
    },
    "executionInfo": {
     "elapsed": 1687,
     "status": "ok",
     "timestamp": 1605542941720,
     "user": {
      "displayName": "NYR HRN",
      "photoUrl": "",
      "userId": "00219144422492457348"
     },
     "user_tz": -210
    },
    "id": "Ywby3NJbD8rl",
    "outputId": "cf32a4b9-aa7d-40b4-a3cf-609970043358"
   },
   "outputs": [
    {
     "data": {
      "text/plain": [
       "(60000, 28, 28)"
      ]
     },
     "execution_count": 15,
     "metadata": {
      "tags": []
     },
     "output_type": "execute_result"
    },
    {
     "data": {
      "image/png": "[encoded data removed]",
      "text/plain": [
       "<Figure size 432x288 with 1 Axes>"
      ]
     },
     "metadata": {
      "needs_background": "light",
      "tags": []
     },
     "output_type": "display_data"
    }
   ],
   "source": [
    "plt.imshow(train_images[220])\n",
    "train_images.shape\n",
    "\n"
   ]
  },
  {
   "cell_type": "code",
   "execution_count": null,
   "metadata": {
    "colab": {
     "base_uri": "https://localhost:8080/"
    },
    "executionInfo": {
     "elapsed": 1374,
     "status": "ok",
     "timestamp": 1605541903706,
     "user": {
      "displayName": "NYR HRN",
      "photoUrl": "",
      "userId": "00219144422492457348"
     },
     "user_tz": -210
    },
    "id": "sQXwM7N7Ga6Z",
    "outputId": "499ab2d2-cb3a-4bcf-9f35-8656f818492b"
   },
   "outputs": [
    {
     "data": {
      "text/plain": [
       "{0, 1, 2, 3, 4, 5, 6, 7, 8, 9}"
      ]
     },
     "execution_count": 4,
     "metadata": {
      "tags": []
     },
     "output_type": "execute_result"
    }
   ],
   "source": [
    "set(test_labels)"
   ]
  },
  {
   "cell_type": "code",
   "execution_count": null,
   "metadata": {
    "id": "9AiCoVGEGg_2"
   },
   "outputs": [],
   "source": [
    "train_data=np.array(train_images)\n",
    "test_data=np.array(test_images)\n",
    "\n",
    "train_data=train_data.astype('float32')\n",
    "test_data=test_data.astype('float32')\n",
    "\n",
    "train_data/=255\n",
    "test_data/=255\n"
   ]
  },
  {
   "cell_type": "code",
   "execution_count": null,
   "metadata": {
    "id": "9nNdjb3KIjEO"
   },
   "outputs": [],
   "source": [
    "train_labels=keras.utils.to_categorical(train_labels,num_classes=10)\n",
    "test_labels=keras.utils.to_categorical(test_labels,num_classes=10)"
   ]
  },
  {
   "cell_type": "code",
   "execution_count": null,
   "metadata": {
    "colab": {
     "base_uri": "https://localhost:8080/"
    },
    "executionInfo": {
     "elapsed": 1777,
     "status": "ok",
     "timestamp": 1605544334146,
     "user": {
      "displayName": "NYR HRN",
      "photoUrl": "",
      "userId": "00219144422492457348"
     },
     "user_tz": -210
    },
    "id": "tRt5Rx0nMOgu",
    "outputId": "f1f673e7-7cc7-4306-b457-9f7b64a76475"
   },
   "outputs": [
    {
     "name": "stdout",
     "output_type": "stream",
     "text": [
      "Model: \"sequential_4\"\n",
      "_________________________________________________________________\n",
      "Layer (type)                 Output Shape              Param #   \n",
      "=================================================================\n",
      "flatten_1 (Flatten)          (None, 784)               0         \n",
      "_________________________________________________________________\n",
      "dense_5 (Dense)              (None, 128)               100480    \n",
      "_________________________________________________________________\n",
      "dense_6 (Dense)              (None, 10)                1290      \n",
      "=================================================================\n",
      "Total params: 101,770\n",
      "Trainable params: 101,770\n",
      "Non-trainable params: 0\n",
      "_________________________________________________________________\n"
     ]
    }
   ],
   "source": [
    "# you must flat your data before using them .... \n",
    "model=Sequential()\n",
    "model.add(Flatten(input_shape=(28,28)))\n",
    "model.add(Dense(128,activation='relu'))\n",
    "#model.add(Dense(100,activation='relu'))\n",
    "model.add(Dense(10,activation='softmax'))\n",
    "model.summary()"
   ]
  },
  {
   "cell_type": "code",
   "execution_count": null,
   "metadata": {
    "id": "6De9K-nNUafD"
   },
   "outputs": [],
   "source": [
    "model.compile(optimizer='rmsprop', loss='categorical_crossentropy',metrics=['accuracy'])"
   ]
  },
  {
   "cell_type": "code",
   "execution_count": null,
   "metadata": {
    "colab": {
     "base_uri": "https://localhost:8080/"
    },
    "executionInfo": {
     "elapsed": 36782,
     "status": "ok",
     "timestamp": 1605544971818,
     "user": {
      "displayName": "NYR HRN",
      "photoUrl": "",
      "userId": "00219144422492457348"
     },
     "user_tz": -210
    },
    "id": "mQJGPeSR7QFU",
    "outputId": "963c0711-8041-416b-a8a5-ab29721294cb"
   },
   "outputs": [
    {
     "name": "stdout",
     "output_type": "stream",
     "text": [
      "Epoch 1/20\n",
      "375/375 [==============================] - 2s 5ms/step - loss: 0.0225 - accuracy: 0.9923 - val_loss: 1.2203 - val_accuracy: 0.8868\n",
      "Epoch 2/20\n",
      "375/375 [==============================] - 2s 5ms/step - loss: 0.0237 - accuracy: 0.9917 - val_loss: 1.3019 - val_accuracy: 0.8784\n",
      "Epoch 3/20\n",
      "375/375 [==============================] - 2s 5ms/step - loss: 0.0236 - accuracy: 0.9926 - val_loss: 1.2543 - val_accuracy: 0.8857\n",
      "Epoch 4/20\n",
      "375/375 [==============================] - 2s 5ms/step - loss: 0.0249 - accuracy: 0.9916 - val_loss: 1.2387 - val_accuracy: 0.8840\n",
      "Epoch 5/20\n",
      "375/375 [==============================] - 2s 4ms/step - loss: 0.0246 - accuracy: 0.9919 - val_loss: 1.2464 - val_accuracy: 0.8855\n",
      "Epoch 6/20\n",
      "375/375 [==============================] - 2s 5ms/step - loss: 0.0210 - accuracy: 0.9926 - val_loss: 1.2986 - val_accuracy: 0.8864\n",
      "Epoch 7/20\n",
      "375/375 [==============================] - 2s 5ms/step - loss: 0.0219 - accuracy: 0.9929 - val_loss: 1.2846 - val_accuracy: 0.8846\n",
      "Epoch 8/20\n",
      "375/375 [==============================] - 2s 5ms/step - loss: 0.0212 - accuracy: 0.9927 - val_loss: 1.2942 - val_accuracy: 0.8805\n",
      "Epoch 9/20\n",
      "375/375 [==============================] - 2s 5ms/step - loss: 0.0227 - accuracy: 0.9926 - val_loss: 1.2859 - val_accuracy: 0.8850\n",
      "Epoch 10/20\n",
      "375/375 [==============================] - 2s 5ms/step - loss: 0.0212 - accuracy: 0.9928 - val_loss: 1.2775 - val_accuracy: 0.8832\n",
      "Epoch 11/20\n",
      "375/375 [==============================] - 2s 5ms/step - loss: 0.0224 - accuracy: 0.9924 - val_loss: 1.2812 - val_accuracy: 0.8842\n",
      "Epoch 12/20\n",
      "375/375 [==============================] - 2s 5ms/step - loss: 0.0214 - accuracy: 0.9926 - val_loss: 1.2928 - val_accuracy: 0.8821\n",
      "Epoch 13/20\n",
      "375/375 [==============================] - 2s 5ms/step - loss: 0.0235 - accuracy: 0.9922 - val_loss: 1.3228 - val_accuracy: 0.8820\n",
      "Epoch 14/20\n",
      "375/375 [==============================] - 2s 5ms/step - loss: 0.0217 - accuracy: 0.9927 - val_loss: 1.3623 - val_accuracy: 0.8856\n",
      "Epoch 15/20\n",
      "375/375 [==============================] - 2s 5ms/step - loss: 0.0204 - accuracy: 0.9926 - val_loss: 1.3335 - val_accuracy: 0.8817\n",
      "Epoch 16/20\n",
      "375/375 [==============================] - 2s 5ms/step - loss: 0.0228 - accuracy: 0.9920 - val_loss: 1.3082 - val_accuracy: 0.8851\n",
      "Epoch 17/20\n",
      "375/375 [==============================] - 2s 5ms/step - loss: 0.0197 - accuracy: 0.9931 - val_loss: 1.3577 - val_accuracy: 0.8832\n",
      "Epoch 18/20\n",
      "375/375 [==============================] - 2s 4ms/step - loss: 0.0221 - accuracy: 0.9929 - val_loss: 1.3486 - val_accuracy: 0.8831\n",
      "Epoch 19/20\n",
      "375/375 [==============================] - 2s 5ms/step - loss: 0.0207 - accuracy: 0.9930 - val_loss: 1.2998 - val_accuracy: 0.8858\n",
      "Epoch 20/20\n",
      "375/375 [==============================] - 2s 5ms/step - loss: 0.0190 - accuracy: 0.9932 - val_loss: 1.3149 - val_accuracy: 0.8859\n"
     ]
    }
   ],
   "source": [
    "history=model.fit(train_data,train_labels,epochs=20,batch_size=128,validation_split=0.2)"
   ]
  },
  {
   "cell_type": "code",
   "execution_count": null,
   "metadata": {
    "colab": {
     "base_uri": "https://localhost:8080/",
     "height": 282
    },
    "executionInfo": {
     "elapsed": 2622,
     "status": "ok",
     "timestamp": 1605547054265,
     "user": {
      "displayName": "NYR HRN",
      "photoUrl": "",
      "userId": "00219144422492457348"
     },
     "user_tz": -210
    },
    "id": "iSrHeKwH8oCQ",
    "outputId": "a89ca552-2552-4c40-f592-1c1eb1e15d8d"
   },
   "outputs": [
    {
     "data": {
      "text/plain": [
       "<matplotlib.collections.PathCollection at 0x7f4ec4d28940>"
      ]
     },
     "execution_count": 34,
     "metadata": {
      "tags": []
     },
     "output_type": "execute_result"
    },
    {
     "data": {
      "image/png": "[encoded data removed]",
      "text/plain": [
       "<Figure size 432x288 with 1 Axes>"
      ]
     },
     "metadata": {
      "needs_background": "light",
      "tags": []
     },
     "output_type": "display_data"
    }
   ],
   "source": [
    "x=range(1,21)\n",
    "#y=history.history['loss']\n",
    "y=history.history['accuracy']\n",
    "plt.scatter(x,y,color='r')\n",
    "\n",
    "x=range(1,21)\n",
    "#y=history.history['val_loss']\n",
    "y=history.history['val_accuracy']\n",
    "plt.scatter(x,y,color='b')"
   ]
  }
 ],
 "metadata": {
  "colab": {
   "authorship_tag": "ABX9TyNVlaKmRd1i7ACYa9lD8DEh",
   "collapsed_sections": [],
   "name": "Untitled3.ipynb",
   "provenance": []
  },
  "kernelspec": {
   "display_name": "Python 3",
   "language": "python",
   "name": "python3"
  },
  "language_info": {
   "codemirror_mode": {
    "name": "ipython",
    "version": 3
   },
   "file_extension": ".py",
   "mimetype": "text/x-python",
   "name": "python",
   "nbconvert_exporter": "python",
   "pygments_lexer": "ipython3",
   "version": "3.7.6"
  }
 },
 "nbformat": 4,
 "nbformat_minor": 1
}
