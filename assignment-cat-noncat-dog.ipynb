{
 "cells": [
  {
   "cell_type": "code",
   "execution_count": 1,
   "metadata": {},
   "outputs": [
    {
     "name": "stderr",
     "output_type": "stream",
     "text": [
      "C:\\Users\\Hrn\\anaconda3\\anaconda3\\lib\\site-packages\\tensorboard\\compat\\tensorflow_stub\\dtypes.py:541: FutureWarning: Passing (type, 1) or '1type' as a synonym of type is deprecated; in a future version of numpy, it will be understood as (type, (1,)) / '(1,)type'.\n",
      "  _np_qint8 = np.dtype([(\"qint8\", np.int8, 1)])\n",
      "C:\\Users\\Hrn\\anaconda3\\anaconda3\\lib\\site-packages\\tensorboard\\compat\\tensorflow_stub\\dtypes.py:542: FutureWarning: Passing (type, 1) or '1type' as a synonym of type is deprecated; in a future version of numpy, it will be understood as (type, (1,)) / '(1,)type'.\n",
      "  _np_quint8 = np.dtype([(\"quint8\", np.uint8, 1)])\n",
      "C:\\Users\\Hrn\\anaconda3\\anaconda3\\lib\\site-packages\\tensorboard\\compat\\tensorflow_stub\\dtypes.py:543: FutureWarning: Passing (type, 1) or '1type' as a synonym of type is deprecated; in a future version of numpy, it will be understood as (type, (1,)) / '(1,)type'.\n",
      "  _np_qint16 = np.dtype([(\"qint16\", np.int16, 1)])\n",
      "C:\\Users\\Hrn\\anaconda3\\anaconda3\\lib\\site-packages\\tensorboard\\compat\\tensorflow_stub\\dtypes.py:544: FutureWarning: Passing (type, 1) or '1type' as a synonym of type is deprecated; in a future version of numpy, it will be understood as (type, (1,)) / '(1,)type'.\n",
      "  _np_quint16 = np.dtype([(\"quint16\", np.uint16, 1)])\n",
      "C:\\Users\\Hrn\\anaconda3\\anaconda3\\lib\\site-packages\\tensorboard\\compat\\tensorflow_stub\\dtypes.py:545: FutureWarning: Passing (type, 1) or '1type' as a synonym of type is deprecated; in a future version of numpy, it will be understood as (type, (1,)) / '(1,)type'.\n",
      "  _np_qint32 = np.dtype([(\"qint32\", np.int32, 1)])\n",
      "C:\\Users\\Hrn\\anaconda3\\anaconda3\\lib\\site-packages\\tensorboard\\compat\\tensorflow_stub\\dtypes.py:550: FutureWarning: Passing (type, 1) or '1type' as a synonym of type is deprecated; in a future version of numpy, it will be understood as (type, (1,)) / '(1,)type'.\n",
      "  np_resource = np.dtype([(\"resource\", np.ubyte, 1)])\n"
     ]
    }
   ],
   "source": [
    "import keras\n",
    "import numpy as np\n",
    "import matplotlib.pyplot as plt\n",
    "from keras.preprocessing.image import ImageDataGenerator"
   ]
  },
  {
   "cell_type": "code",
   "execution_count": 4,
   "metadata": {},
   "outputs": [],
   "source": [
    "from keras.layers import MaxPooling2D,Conv2D\n",
    "from keras.layers import Dense,Flatten,Activation\n",
    "from keras import models"
   ]
  },
  {
   "cell_type": "code",
   "execution_count": 5,
   "metadata": {},
   "outputs": [],
   "source": [
    "model=models.Sequential()\n",
    "model.add(Conv2D(32,(3,3),activation=\"relu\",input_shape=(64,64,3)))\n",
    "model.add(MaxPooling2D((2,2)))\n",
    "model.add(Conv2D(64,(3,3),activation=\"relu\"))\n",
    "model.add(MaxPooling2D((2,2)))\n",
    "model.add(Conv2D(64,(3,3),activation=\"relu\"))\n",
    "model.add(MaxPooling2D((2,2)))\n",
    "model.add(Flatten())\n",
    "model.add(Dense(128,activation='relu'))\n",
    "model.add(Dense(1,activation='softmax'))\n"
   ]
  },
  {
   "cell_type": "code",
   "execution_count": 6,
   "metadata": {},
   "outputs": [],
   "source": [
    "from keras import optimizers\n",
    "model.compile(loss='categorical_crossentropy',optimizer=optimizers.RMSprop(lr=1e-4),metrics=['acc'])"
   ]
  },
  {
   "cell_type": "code",
   "execution_count": 7,
   "metadata": {},
   "outputs": [],
   "source": [
    "dataset='C:/Users/Hrn/dataset/cat-noncat-dog/train'"
   ]
  },
  {
   "cell_type": "code",
   "execution_count": 8,
   "metadata": {},
   "outputs": [
    {
     "name": "stdout",
     "output_type": "stream",
     "text": [
      "Found 261 images belonging to 3 classes.\n"
     ]
    }
   ],
   "source": [
    "train_generate=ImageDataGenerator(rescale=1./255)\n",
    "train=train_generate.flow_from_directory(dataset,target_size=(64,64),batch_size=10,class_mode='categorical')\n"
   ]
  },
  {
   "cell_type": "code",
   "execution_count": 9,
   "metadata": {},
   "outputs": [
    {
     "name": "stdout",
     "output_type": "stream",
     "text": [
      "Found 66 images belonging to 3 classes.\n"
     ]
    }
   ],
   "source": [
    "data_validation='C:/Users/Hrn/dataset/cat-noncat-dog/test'\n",
    "validation_generate=ImageDataGenerator(rescale=1./255)\n",
    "validation=validation_generate.flow_from_directory(data_validation,batch_size=10,target_size=(64,64),class_mode='categorical')"
   ]
  },
  {
   "cell_type": "code",
   "execution_count": 10,
   "metadata": {},
   "outputs": [
    {
     "name": "stdout",
     "output_type": "stream",
     "text": [
      "data_batch is  (10, 64, 64, 3)\n",
      "label_batch is  (10, 3)\n"
     ]
    }
   ],
   "source": [
    "for data_batch,label_batch in train:\n",
    "    print(\"data_batch is \" ,data_batch.shape)\n",
    "    print(\"label_batch is \" ,label_batch.shape)\n",
    "    break\n"
   ]
  },
  {
   "cell_type": "code",
   "execution_count": 12,
   "metadata": {},
   "outputs": [
    {
     "name": "stdout",
     "output_type": "stream",
     "text": [
      "Epoch 1/20\n",
      "21/21 [==============================] - 4s 198ms/step - loss: 1.0772 - acc: 0.6667 - val_loss: 1.1292 - val_acc: 0.6667\n",
      "Epoch 2/20\n",
      "21/21 [==============================] - 2s 80ms/step - loss: 1.0410 - acc: 0.6633 - val_loss: 1.2095 - val_acc: 0.5600\n",
      "Epoch 3/20\n",
      "21/21 [==============================] - 2s 75ms/step - loss: 1.0331 - acc: 0.6733 - val_loss: 1.2860 - val_acc: 0.5067\n",
      "Epoch 4/20\n",
      "21/21 [==============================] - 2s 85ms/step - loss: 1.0245 - acc: 0.6873 - val_loss: 1.1711 - val_acc: 0.5800\n",
      "Epoch 5/20\n",
      "21/21 [==============================] - 2s 78ms/step - loss: 1.0150 - acc: 0.6949 - val_loss: 1.1542 - val_acc: 0.6267\n",
      "Epoch 6/20\n",
      "21/21 [==============================] - 2s 78ms/step - loss: 1.0231 - acc: 0.6873 - val_loss: 1.2471 - val_acc: 0.5267\n",
      "Epoch 7/20\n",
      "21/21 [==============================] - 2s 76ms/step - loss: 1.0071 - acc: 0.6965 - val_loss: 1.2009 - val_acc: 0.6067\n",
      "Epoch 8/20\n",
      "21/21 [==============================] - 2s 76ms/step - loss: 0.9786 - acc: 0.7380 - val_loss: 1.2549 - val_acc: 0.5667\n",
      "Epoch 9/20\n",
      "21/21 [==============================] - 2s 76ms/step - loss: 0.9735 - acc: 0.7247 - val_loss: 1.1883 - val_acc: 0.5600\n",
      "Epoch 10/20\n",
      "21/21 [==============================] - 2s 79ms/step - loss: 0.9845 - acc: 0.7111 - val_loss: 1.1980 - val_acc: 0.6067\n",
      "Epoch 11/20\n",
      "21/21 [==============================] - 2s 74ms/step - loss: 0.9642 - acc: 0.7214 - val_loss: 1.2491 - val_acc: 0.5867\n",
      "Epoch 12/20\n",
      "21/21 [==============================] - 2s 76ms/step - loss: 0.9649 - acc: 0.7131 - val_loss: 1.1228 - val_acc: 0.6667\n",
      "Epoch 13/20\n",
      "21/21 [==============================] - 2s 79ms/step - loss: 0.9458 - acc: 0.7347 - val_loss: 1.1931 - val_acc: 0.6267\n",
      "Epoch 14/20\n",
      "21/21 [==============================] - 2s 85ms/step - loss: 0.9274 - acc: 0.7413 - val_loss: 1.2101 - val_acc: 0.6133\n",
      "Epoch 15/20\n",
      "21/21 [==============================] - 2s 92ms/step - loss: 0.9203 - acc: 0.7363 - val_loss: 1.0732 - val_acc: 0.6533\n",
      "Epoch 16/20\n",
      "21/21 [==============================] - 2s 80ms/step - loss: 0.8662 - acc: 0.7595 - val_loss: 1.3106 - val_acc: 0.5867\n",
      "Epoch 17/20\n",
      "21/21 [==============================] - 2s 84ms/step - loss: 0.8606 - acc: 0.7595 - val_loss: 1.2691 - val_acc: 0.6267\n",
      "Epoch 18/20\n",
      "21/21 [==============================] - 2s 77ms/step - loss: 0.8766 - acc: 0.7430 - val_loss: 1.1003 - val_acc: 0.6667\n",
      "Epoch 19/20\n",
      "21/21 [==============================] - 2s 72ms/step - loss: 0.8815 - acc: 0.7430 - val_loss: 1.1244 - val_acc: 0.6533\n",
      "Epoch 20/20\n",
      "21/21 [==============================] - 2s 74ms/step - loss: 0.8394 - acc: 0.7546 - val_loss: 1.1676 - val_acc: 0.6467\n"
     ]
    }
   ],
   "source": [
    "history=model.fit(train,steps_per_epoch=21,epochs=20,validation_data=validation,validation_steps=5)"
   ]
  },
  {
   "cell_type": "code",
   "execution_count": null,
   "metadata": {},
   "outputs": [],
   "source": []
  }
 ],
 "metadata": {
  "kernelspec": {
   "display_name": "Python 3",
   "language": "python",
   "name": "python3"
  },
  "language_info": {
   "codemirror_mode": {
    "name": "ipython",
    "version": 3
   },
   "file_extension": ".py",
   "mimetype": "text/x-python",
   "name": "python",
   "nbconvert_exporter": "python",
   "pygments_lexer": "ipython3",
   "version": "3.7.6"
  }
 },
 "nbformat": 4,
 "nbformat_minor": 4
}
